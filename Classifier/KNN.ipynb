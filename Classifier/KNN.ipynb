{
  "nbformat": 4,
  "nbformat_minor": 0,
  "metadata": {
    "colab": {
      "name": "KNN.ipynb",
      "version": "0.3.2",
      "provenance": [],
      "collapsed_sections": [],
      "include_colab_link": true
    },
    "kernelspec": {
      "name": "python3",
      "display_name": "Python 3"
    },
    "accelerator": "GPU"
  },
  "cells": [
    {
      "cell_type": "markdown",
      "metadata": {
        "id": "view-in-github",
        "colab_type": "text"
      },
      "source": [
        "<a href=\"https://colab.research.google.com/github/rohanchidrewar05/smart_cap/blob/master/KNN.ipynb\" target=\"_parent\"><img src=\"https://colab.research.google.com/assets/colab-badge.svg\" alt=\"Open In Colab\"/></a>"
      ]
    },
    {
      "metadata": {
        "id": "pRRhk5iD0ziC",
        "colab_type": "code",
        "colab": {}
      },
      "cell_type": "code",
      "source": [
        "!pip3 install scikit-learn"
      ],
      "execution_count": 0,
      "outputs": []
    },
    {
      "metadata": {
        "id": "WoNVr97p1dz2",
        "colab_type": "code",
        "colab": {}
      },
      "cell_type": "code",
      "source": [
        "! pip3 install face_recognition"
      ],
      "execution_count": 0,
      "outputs": []
    },
    {
      "metadata": {
        "id": "5nmwTJx185go",
        "colab_type": "code",
        "colab": {}
      },
      "cell_type": "code",
      "source": [
        "def train(train_dir, model_save_path=None, n_neighbors=None, knn_algo='ball_tree', verbose=False):\n",
        "\n",
        "    X = []\n",
        "    Y = []\n",
        "    test_data_save_path = \"/content/drive/My Drive/Colab Notebooks/Converted_data\"\n",
        "    if test_data_save_path is not None:\n",
        "      with open(os.path.join(test_data_save_path,\"embedding.txt\"), 'rb') as f:\n",
        "        X = pickle.load(f)\n",
        "      with open(os.path.join(test_data_save_path,\"label.txt\"), 'rb') as f:\n",
        "        Y = pickle.load(f)\n",
        "\n",
        "    \n",
        "    # Determine how many neighbors to use for weighting in the KNN classifier\n",
        "    if n_neighbors is None:\n",
        "        n_neighbors = int(round(math.sqrt(len(X))))\n",
        "        if verbose:\n",
        "            print(\"Chose n_neighbors automatically:\", n_neighbors)\n",
        "\n",
        "    # Create and train the KNN classifier\n",
        "    knn_clf = neighbors.KNeighborsClassifier(n_neighbors=n_neighbors, algorithm=knn_algo, weights='distance')\n",
        "    knn_clf.fit(X, Y)\n",
        "\n",
        "    # Save the trained KNN classifier\n",
        "    if model_save_path is not None:\n",
        "        with open(model_save_path, 'wb') as f:\n",
        "            pickle.dump(knn_clf, f)\n",
        "\n",
        "    return knn_clf\n"
      ],
      "execution_count": 0,
      "outputs": []
    },
    {
      "metadata": {
        "id": "_zNMr6OQFep0",
        "colab_type": "code",
        "colab": {}
      },
      "cell_type": "code",
      "source": [
        "def test(test_data_save_path):\n",
        "  \n",
        "  if test_data_save_path is not None:\n",
        "    with open(os.path.join(test_data_save_path,\"test_embedding.txt\"), 'rb') as f:\n",
        "      X_test = pickle.load(f)\n",
        "    with open(os.path.join(test_data_save_path,\"test_label.txt\"), 'rb') as f:\n",
        "      Y_test = pickle.load(f)\n",
        "\n",
        "  for i in range(len(X_test)):\n",
        "    a = X_test[i]\n",
        "    b = a.reshape(1,128)\n",
        "    pred = classifier.predict(b)\n",
        "    print(\"class : \", Y_test[i], \"Prediction : \", pred)"
      ],
      "execution_count": 0,
      "outputs": []
    },
    {
      "metadata": {
        "id": "pPqQeTka-Su5",
        "colab_type": "code",
        "colab": {}
      },
      "cell_type": "code",
      "source": [
        "if __name__ == \"__main__\":\n",
        "    # STEP 1: Train the KNN classifier and save it to disk\n",
        "    # Once the model is trained and saved, you can skip this step next time.\n",
        "    model_path = \"/content/drive/My Drive/Colab Notebooks/Dataset\"\n",
        "    print(\"Training KNN classifier...\")\n",
        "    classifier = train(\"/content/drive/My Drive/Colab Notebooks/Dataset\", model_save_path=\"/content/drive/My Drive/Colab Notebooks/Models/trained_knn_model.clf\", n_neighbors=3)\n",
        "    print(\"Training complete!\")\n",
        "    print(\"Testing Classifier..\")\n",
        "    test(test_data_save_path)\n",
        "    print(\"Testing completed\")"
      ],
      "execution_count": 0,
      "outputs": []
    }
  ]
}